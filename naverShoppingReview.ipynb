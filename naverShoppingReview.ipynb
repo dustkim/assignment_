{
 "cells": [
  {
   "cell_type": "code",
   "execution_count": 1,
   "metadata": {},
   "outputs": [],
   "source": [
    "# pip install konlpy"
   ]
  },
  {
   "cell_type": "code",
   "execution_count": 40,
   "metadata": {},
   "outputs": [],
   "source": [
    "import os\n",
    "import torch\n",
    "import torch.nn as nn\n",
    "import torch.optim as optim\n",
    "from torch.utils.data import DataLoader, Dataset\n",
    "import numpy as np\n",
    "import pandas as pd\n",
    "import urllib.request\n",
    "from konlpy.tag import *\n",
    "from scipy.sparse import csr_matrix\n",
    "import matplotlib.pyplot as plt\n",
    "from collections import Counter\n",
    "from sklearn.preprocessing import LabelEncoder\n",
    "from sklearn.model_selection import train_test_split\n",
    "from sklearn.feature_extraction.text import CountVectorizer\n",
    "from sklearn.metrics import accuracy_score"
   ]
  },
  {
   "cell_type": "code",
   "execution_count": 2,
   "metadata": {},
   "outputs": [
    {
     "data": {
      "text/plain": [
       "('ratings_total.txt', <http.client.HTTPMessage at 0x25a8ce3fd90>)"
      ]
     },
     "execution_count": 2,
     "metadata": {},
     "output_type": "execute_result"
    }
   ],
   "source": [
    "urllib.request.urlretrieve(\"https://raw.githubusercontent.com/bab2min/corpus/master/sentiment/naver_shopping.txt\", filename=\"ratings_total.txt\")"
   ]
  },
  {
   "cell_type": "code",
   "execution_count": 3,
   "metadata": {},
   "outputs": [
    {
     "data": {
      "text/html": [
       "<div>\n",
       "<style scoped>\n",
       "    .dataframe tbody tr th:only-of-type {\n",
       "        vertical-align: middle;\n",
       "    }\n",
       "\n",
       "    .dataframe tbody tr th {\n",
       "        vertical-align: top;\n",
       "    }\n",
       "\n",
       "    .dataframe thead th {\n",
       "        text-align: right;\n",
       "    }\n",
       "</style>\n",
       "<table border=\"1\" class=\"dataframe\">\n",
       "  <thead>\n",
       "    <tr style=\"text-align: right;\">\n",
       "      <th></th>\n",
       "      <th>5</th>\n",
       "      <th>배공빠르고 굿</th>\n",
       "    </tr>\n",
       "  </thead>\n",
       "  <tbody>\n",
       "    <tr>\n",
       "      <th>0</th>\n",
       "      <td>2</td>\n",
       "      <td>택배가 엉망이네용 저희집 밑에층에 말도없이 놔두고가고</td>\n",
       "    </tr>\n",
       "    <tr>\n",
       "      <th>1</th>\n",
       "      <td>5</td>\n",
       "      <td>아주좋아요 바지 정말 좋아서2개 더 구매했어요 이가격에 대박입니다. 바느질이 조금 ...</td>\n",
       "    </tr>\n",
       "    <tr>\n",
       "      <th>2</th>\n",
       "      <td>2</td>\n",
       "      <td>선물용으로 빨리 받아서 전달했어야 하는 상품이었는데 머그컵만 와서 당황했습니다. 전...</td>\n",
       "    </tr>\n",
       "    <tr>\n",
       "      <th>3</th>\n",
       "      <td>5</td>\n",
       "      <td>민트색상 예뻐요. 옆 손잡이는 거는 용도로도 사용되네요 ㅎㅎ</td>\n",
       "    </tr>\n",
       "    <tr>\n",
       "      <th>4</th>\n",
       "      <td>2</td>\n",
       "      <td>비추합니다 계란 뒤집을 때 완전 불편해요 ㅠㅠ 코팅도 묻어나고 보기엔 예쁘고 실용적...</td>\n",
       "    </tr>\n",
       "  </tbody>\n",
       "</table>\n",
       "</div>"
      ],
      "text/plain": [
       "   5                                            배공빠르고 굿\n",
       "0  2                      택배가 엉망이네용 저희집 밑에층에 말도없이 놔두고가고\n",
       "1  5  아주좋아요 바지 정말 좋아서2개 더 구매했어요 이가격에 대박입니다. 바느질이 조금 ...\n",
       "2  2  선물용으로 빨리 받아서 전달했어야 하는 상품이었는데 머그컵만 와서 당황했습니다. 전...\n",
       "3  5                  민트색상 예뻐요. 옆 손잡이는 거는 용도로도 사용되네요 ㅎㅎ\n",
       "4  2  비추합니다 계란 뒤집을 때 완전 불편해요 ㅠㅠ 코팅도 묻어나고 보기엔 예쁘고 실용적..."
      ]
     },
     "execution_count": 3,
     "metadata": {},
     "output_type": "execute_result"
    }
   ],
   "source": [
    "dataset = pd.read_table(\"ratings_total.txt\")\n",
    "dataset.head()"
   ]
  },
  {
   "cell_type": "code",
   "execution_count": 4,
   "metadata": {},
   "outputs": [
    {
     "data": {
      "text/plain": [
       "5          0\n",
       "배공빠르고 굿    0\n",
       "dtype: int64"
      ]
     },
     "execution_count": 4,
     "metadata": {},
     "output_type": "execute_result"
    }
   ],
   "source": [
    "# 결측값 확인하기\n",
    "dataset.isna().sum()"
   ]
  },
  {
   "cell_type": "code",
   "execution_count": 5,
   "metadata": {},
   "outputs": [
    {
     "data": {
      "text/html": [
       "<div>\n",
       "<style scoped>\n",
       "    .dataframe tbody tr th:only-of-type {\n",
       "        vertical-align: middle;\n",
       "    }\n",
       "\n",
       "    .dataframe tbody tr th {\n",
       "        vertical-align: top;\n",
       "    }\n",
       "\n",
       "    .dataframe thead th {\n",
       "        text-align: right;\n",
       "    }\n",
       "</style>\n",
       "<table border=\"1\" class=\"dataframe\">\n",
       "  <thead>\n",
       "    <tr style=\"text-align: right;\">\n",
       "      <th></th>\n",
       "      <th>ratings</th>\n",
       "      <th>reviews</th>\n",
       "    </tr>\n",
       "  </thead>\n",
       "  <tbody>\n",
       "    <tr>\n",
       "      <th>0</th>\n",
       "      <td>5</td>\n",
       "      <td>배공빠르고 굿</td>\n",
       "    </tr>\n",
       "    <tr>\n",
       "      <th>1</th>\n",
       "      <td>2</td>\n",
       "      <td>택배가 엉망이네용 저희집 밑에층에 말도없이 놔두고가고</td>\n",
       "    </tr>\n",
       "    <tr>\n",
       "      <th>2</th>\n",
       "      <td>5</td>\n",
       "      <td>아주좋아요 바지 정말 좋아서2개 더 구매했어요 이가격에 대박입니다. 바느질이 조금 ...</td>\n",
       "    </tr>\n",
       "    <tr>\n",
       "      <th>3</th>\n",
       "      <td>2</td>\n",
       "      <td>선물용으로 빨리 받아서 전달했어야 하는 상품이었는데 머그컵만 와서 당황했습니다. 전...</td>\n",
       "    </tr>\n",
       "    <tr>\n",
       "      <th>4</th>\n",
       "      <td>5</td>\n",
       "      <td>민트색상 예뻐요. 옆 손잡이는 거는 용도로도 사용되네요 ㅎㅎ</td>\n",
       "    </tr>\n",
       "    <tr>\n",
       "      <th>...</th>\n",
       "      <td>...</td>\n",
       "      <td>...</td>\n",
       "    </tr>\n",
       "    <tr>\n",
       "      <th>199995</th>\n",
       "      <td>2</td>\n",
       "      <td>장마라그런가!!! 달지않아요</td>\n",
       "    </tr>\n",
       "    <tr>\n",
       "      <th>199996</th>\n",
       "      <td>5</td>\n",
       "      <td>다이슨 케이스 구매했어요 다이슨 슈퍼소닉 드라이기 케이스 구매했어요가격 괜찮고 배송...</td>\n",
       "    </tr>\n",
       "    <tr>\n",
       "      <th>199997</th>\n",
       "      <td>5</td>\n",
       "      <td>로드샾에서 사는것보다 세배 저렴하네요 ㅜㅜ 자주이용할께요</td>\n",
       "    </tr>\n",
       "    <tr>\n",
       "      <th>199998</th>\n",
       "      <td>5</td>\n",
       "      <td>넘이쁘고 쎄련되보이네요~</td>\n",
       "    </tr>\n",
       "    <tr>\n",
       "      <th>199999</th>\n",
       "      <td>5</td>\n",
       "      <td>아직 사용해보지도않았고 다른 제품을 써본적이없어서 잘 모르겠지만 ㅎㅎ 배송은 빨랐습니다</td>\n",
       "    </tr>\n",
       "  </tbody>\n",
       "</table>\n",
       "<p>200000 rows × 2 columns</p>\n",
       "</div>"
      ],
      "text/plain": [
       "        ratings                                            reviews\n",
       "0             5                                            배공빠르고 굿\n",
       "1             2                      택배가 엉망이네용 저희집 밑에층에 말도없이 놔두고가고\n",
       "2             5  아주좋아요 바지 정말 좋아서2개 더 구매했어요 이가격에 대박입니다. 바느질이 조금 ...\n",
       "3             2  선물용으로 빨리 받아서 전달했어야 하는 상품이었는데 머그컵만 와서 당황했습니다. 전...\n",
       "4             5                  민트색상 예뻐요. 옆 손잡이는 거는 용도로도 사용되네요 ㅎㅎ\n",
       "...         ...                                                ...\n",
       "199995        2                                    장마라그런가!!! 달지않아요\n",
       "199996        5  다이슨 케이스 구매했어요 다이슨 슈퍼소닉 드라이기 케이스 구매했어요가격 괜찮고 배송...\n",
       "199997        5                    로드샾에서 사는것보다 세배 저렴하네요 ㅜㅜ 자주이용할께요\n",
       "199998        5                                      넘이쁘고 쎄련되보이네요~\n",
       "199999        5   아직 사용해보지도않았고 다른 제품을 써본적이없어서 잘 모르겠지만 ㅎㅎ 배송은 빨랐습니다\n",
       "\n",
       "[200000 rows x 2 columns]"
      ]
     },
     "execution_count": 5,
     "metadata": {},
     "output_type": "execute_result"
    }
   ],
   "source": [
    "# 컬럼 이름 만들어주기\n",
    "dataset = pd.read_table(\"ratings_total.txt\", names=[\"ratings\", \"reviews\"])\n",
    "dataset"
   ]
  },
  {
   "cell_type": "code",
   "execution_count": 6,
   "metadata": {},
   "outputs": [
    {
     "data": {
      "text/html": [
       "<div>\n",
       "<style scoped>\n",
       "    .dataframe tbody tr th:only-of-type {\n",
       "        vertical-align: middle;\n",
       "    }\n",
       "\n",
       "    .dataframe tbody tr th {\n",
       "        vertical-align: top;\n",
       "    }\n",
       "\n",
       "    .dataframe thead th {\n",
       "        text-align: right;\n",
       "    }\n",
       "</style>\n",
       "<table border=\"1\" class=\"dataframe\">\n",
       "  <thead>\n",
       "    <tr style=\"text-align: right;\">\n",
       "      <th></th>\n",
       "      <th>ratings</th>\n",
       "      <th>reviews</th>\n",
       "    </tr>\n",
       "  </thead>\n",
       "  <tbody>\n",
       "    <tr>\n",
       "      <th>0</th>\n",
       "      <td>5</td>\n",
       "      <td>배공빠르고 굿</td>\n",
       "    </tr>\n",
       "    <tr>\n",
       "      <th>1</th>\n",
       "      <td>2</td>\n",
       "      <td>택배가 엉망이네용 저희집 밑에층에 말도없이 놔두고가고</td>\n",
       "    </tr>\n",
       "    <tr>\n",
       "      <th>2</th>\n",
       "      <td>5</td>\n",
       "      <td>아주좋아요 바지 정말 좋아서2개 더 구매했어요 이가격에 대박입니다. 바느질이 조금 ...</td>\n",
       "    </tr>\n",
       "    <tr>\n",
       "      <th>3</th>\n",
       "      <td>2</td>\n",
       "      <td>선물용으로 빨리 받아서 전달했어야 하는 상품이었는데 머그컵만 와서 당황했습니다. 전...</td>\n",
       "    </tr>\n",
       "    <tr>\n",
       "      <th>4</th>\n",
       "      <td>5</td>\n",
       "      <td>민트색상 예뻐요. 옆 손잡이는 거는 용도로도 사용되네요 ㅎㅎ</td>\n",
       "    </tr>\n",
       "  </tbody>\n",
       "</table>\n",
       "</div>"
      ],
      "text/plain": [
       "   ratings                                            reviews\n",
       "0        5                                            배공빠르고 굿\n",
       "1        2                      택배가 엉망이네용 저희집 밑에층에 말도없이 놔두고가고\n",
       "2        5  아주좋아요 바지 정말 좋아서2개 더 구매했어요 이가격에 대박입니다. 바느질이 조금 ...\n",
       "3        2  선물용으로 빨리 받아서 전달했어야 하는 상품이었는데 머그컵만 와서 당황했습니다. 전...\n",
       "4        5                  민트색상 예뻐요. 옆 손잡이는 거는 용도로도 사용되네요 ㅎㅎ"
      ]
     },
     "execution_count": 6,
     "metadata": {},
     "output_type": "execute_result"
    }
   ],
   "source": [
    "# 중복 데이터 제거하기\n",
    "dataset = dataset.drop_duplicates([\"reviews\"]).reset_index(drop=True)\n",
    "dataset.head()"
   ]
  },
  {
   "cell_type": "code",
   "execution_count": 7,
   "metadata": {},
   "outputs": [
    {
     "data": {
      "text/html": [
       "<div>\n",
       "<style scoped>\n",
       "    .dataframe tbody tr th:only-of-type {\n",
       "        vertical-align: middle;\n",
       "    }\n",
       "\n",
       "    .dataframe tbody tr th {\n",
       "        vertical-align: top;\n",
       "    }\n",
       "\n",
       "    .dataframe thead th {\n",
       "        text-align: right;\n",
       "    }\n",
       "</style>\n",
       "<table border=\"1\" class=\"dataframe\">\n",
       "  <thead>\n",
       "    <tr style=\"text-align: right;\">\n",
       "      <th></th>\n",
       "      <th>ratings</th>\n",
       "      <th>reviews</th>\n",
       "    </tr>\n",
       "  </thead>\n",
       "  <tbody>\n",
       "    <tr>\n",
       "      <th>0</th>\n",
       "      <td>5</td>\n",
       "      <td>배공빠르고 굿</td>\n",
       "    </tr>\n",
       "    <tr>\n",
       "      <th>1</th>\n",
       "      <td>2</td>\n",
       "      <td>택배가 엉망이네용 저희집 밑에층에 말도없이 놔두고가고</td>\n",
       "    </tr>\n",
       "    <tr>\n",
       "      <th>2</th>\n",
       "      <td>5</td>\n",
       "      <td>아주좋아요 바지 정말 좋아서 개 더 구매했어요 이가격에 대박입니다  바느질이 조금 ...</td>\n",
       "    </tr>\n",
       "    <tr>\n",
       "      <th>3</th>\n",
       "      <td>2</td>\n",
       "      <td>선물용으로 빨리 받아서 전달했어야 하는 상품이었는데 머그컵만 와서 당황했습니다  전...</td>\n",
       "    </tr>\n",
       "    <tr>\n",
       "      <th>4</th>\n",
       "      <td>5</td>\n",
       "      <td>민트색상 예뻐요  옆 손잡이는 거는 용도로도 사용되네요 ㅎㅎ</td>\n",
       "    </tr>\n",
       "  </tbody>\n",
       "</table>\n",
       "</div>"
      ],
      "text/plain": [
       "   ratings                                            reviews\n",
       "0        5                                            배공빠르고 굿\n",
       "1        2                      택배가 엉망이네용 저희집 밑에층에 말도없이 놔두고가고\n",
       "2        5  아주좋아요 바지 정말 좋아서 개 더 구매했어요 이가격에 대박입니다  바느질이 조금 ...\n",
       "3        2  선물용으로 빨리 받아서 전달했어야 하는 상품이었는데 머그컵만 와서 당황했습니다  전...\n",
       "4        5                  민트색상 예뻐요  옆 손잡이는 거는 용도로도 사용되네요 ㅎㅎ"
      ]
     },
     "execution_count": 7,
     "metadata": {},
     "output_type": "execute_result"
    }
   ],
   "source": [
    "# 한글이 아닌 문자 제거\n",
    "dataset[\"reviews\"] = dataset[\"reviews\"].str.replace(\"[^ㄱ-ㅎㅏ-ㅣ가-힣]\", ' ', regex=True)\n",
    "dataset.head()"
   ]
  },
  {
   "cell_type": "code",
   "execution_count": 8,
   "metadata": {},
   "outputs": [
    {
     "data": {
      "text/plain": [
       "array([5, 2, 1, 4], dtype=int64)"
      ]
     },
     "execution_count": 8,
     "metadata": {},
     "output_type": "execute_result"
    }
   ],
   "source": [
    "dataset[\"ratings\"].unique()"
   ]
  },
  {
   "cell_type": "code",
   "execution_count": 9,
   "metadata": {},
   "outputs": [
    {
     "data": {
      "text/html": [
       "<div>\n",
       "<style scoped>\n",
       "    .dataframe tbody tr th:only-of-type {\n",
       "        vertical-align: middle;\n",
       "    }\n",
       "\n",
       "    .dataframe tbody tr th {\n",
       "        vertical-align: top;\n",
       "    }\n",
       "\n",
       "    .dataframe thead th {\n",
       "        text-align: right;\n",
       "    }\n",
       "</style>\n",
       "<table border=\"1\" class=\"dataframe\">\n",
       "  <thead>\n",
       "    <tr style=\"text-align: right;\">\n",
       "      <th></th>\n",
       "      <th>ratings</th>\n",
       "      <th>reviews</th>\n",
       "      <th>label</th>\n",
       "    </tr>\n",
       "  </thead>\n",
       "  <tbody>\n",
       "    <tr>\n",
       "      <th>0</th>\n",
       "      <td>5</td>\n",
       "      <td>배공빠르고 굿</td>\n",
       "      <td>1</td>\n",
       "    </tr>\n",
       "    <tr>\n",
       "      <th>1</th>\n",
       "      <td>2</td>\n",
       "      <td>택배가 엉망이네용 저희집 밑에층에 말도없이 놔두고가고</td>\n",
       "      <td>0</td>\n",
       "    </tr>\n",
       "    <tr>\n",
       "      <th>2</th>\n",
       "      <td>5</td>\n",
       "      <td>아주좋아요 바지 정말 좋아서 개 더 구매했어요 이가격에 대박입니다  바느질이 조금 ...</td>\n",
       "      <td>1</td>\n",
       "    </tr>\n",
       "    <tr>\n",
       "      <th>3</th>\n",
       "      <td>2</td>\n",
       "      <td>선물용으로 빨리 받아서 전달했어야 하는 상품이었는데 머그컵만 와서 당황했습니다  전...</td>\n",
       "      <td>0</td>\n",
       "    </tr>\n",
       "    <tr>\n",
       "      <th>4</th>\n",
       "      <td>5</td>\n",
       "      <td>민트색상 예뻐요  옆 손잡이는 거는 용도로도 사용되네요 ㅎㅎ</td>\n",
       "      <td>1</td>\n",
       "    </tr>\n",
       "  </tbody>\n",
       "</table>\n",
       "</div>"
      ],
      "text/plain": [
       "   ratings                                            reviews  label\n",
       "0        5                                            배공빠르고 굿      1\n",
       "1        2                      택배가 엉망이네용 저희집 밑에층에 말도없이 놔두고가고      0\n",
       "2        5  아주좋아요 바지 정말 좋아서 개 더 구매했어요 이가격에 대박입니다  바느질이 조금 ...      1\n",
       "3        2  선물용으로 빨리 받아서 전달했어야 하는 상품이었는데 머그컵만 와서 당황했습니다  전...      0\n",
       "4        5                  민트색상 예뻐요  옆 손잡이는 거는 용도로도 사용되네요 ㅎㅎ      1"
      ]
     },
     "execution_count": 9,
     "metadata": {},
     "output_type": "execute_result"
    }
   ],
   "source": [
    "# ratings 라벨링 하기\n",
    "# ratings가 5를 넘으면 1(긍정), 5미만이면 0(부정)\n",
    "# dataset[\"label\"] = np.select([dataset.ratings > 3], [1], default=0)\n",
    "dataset[\"label\"] = dataset[\"ratings\"].apply(lambda x: 1 if x > 3 else 0)\n",
    "dataset.head()"
   ]
  },
  {
   "cell_type": "code",
   "execution_count": 10,
   "metadata": {},
   "outputs": [
    {
     "name": "stdout",
     "output_type": "stream",
     "text": [
      "159926\n",
      "39982\n"
     ]
    }
   ],
   "source": [
    "# 훈련/테스트 데이터 분리\n",
    "train_data, test_data = train_test_split(dataset, test_size=0.2, random_state=2024)\n",
    "print(len(train_data))\n",
    "print(len(test_data))"
   ]
  },
  {
   "cell_type": "code",
   "execution_count": 11,
   "metadata": {},
   "outputs": [],
   "source": [
    "os.environ[\"JAVA_HOME\"] = r\"C:\\Program Files\\Java\\jdk-22\\bin\\server\""
   ]
  },
  {
   "cell_type": "code",
   "execution_count": 12,
   "metadata": {},
   "outputs": [
    {
     "name": "stdout",
     "output_type": "stream",
     "text": [
      "['와', '진짜', 'vscode', '사용', '하기', '귀찮네', ',', '파', '이참', '사용', '해야', '하나', '?']\n"
     ]
    }
   ],
   "source": [
    "okt = Okt()\n",
    "print(okt.morphs(\"와 진짜 vscode 사용하기 귀찮네, 파이참 사용해야 하나?\"))"
   ]
  },
  {
   "cell_type": "code",
   "execution_count": 13,
   "metadata": {},
   "outputs": [],
   "source": [
    "# 불용어 제거하기 위한 설정\n",
    "stopwords = ['도', '는', '다', '의', '가', '이', '은', '한', '에', '하', '고', '을', '를', '인', '듯', '과', '와', '네', '들', '듯', '지', '임', '게']"
   ]
  },
  {
   "cell_type": "code",
   "execution_count": 14,
   "metadata": {},
   "outputs": [
    {
     "data": {
      "text/html": [
       "<div>\n",
       "<style scoped>\n",
       "    .dataframe tbody tr th:only-of-type {\n",
       "        vertical-align: middle;\n",
       "    }\n",
       "\n",
       "    .dataframe tbody tr th {\n",
       "        vertical-align: top;\n",
       "    }\n",
       "\n",
       "    .dataframe thead th {\n",
       "        text-align: right;\n",
       "    }\n",
       "</style>\n",
       "<table border=\"1\" class=\"dataframe\">\n",
       "  <thead>\n",
       "    <tr style=\"text-align: right;\">\n",
       "      <th></th>\n",
       "      <th>ratings</th>\n",
       "      <th>reviews</th>\n",
       "      <th>label</th>\n",
       "      <th>tokenized</th>\n",
       "    </tr>\n",
       "  </thead>\n",
       "  <tbody>\n",
       "    <tr>\n",
       "      <th>155437</th>\n",
       "      <td>4</td>\n",
       "      <td>무게는 성인 여자가 들고 다니기엔 무겁지만 그래도 설치가 간편하고 크기가 엄청 커서...</td>\n",
       "      <td>1</td>\n",
       "      <td>[무게, 성인, 여자, 들고, 다니, 기, 엔, 무겁지만, 그래도, 설치, 간편하고...</td>\n",
       "    </tr>\n",
       "    <tr>\n",
       "      <th>22187</th>\n",
       "      <td>5</td>\n",
       "      <td>꼬소하니 건강음료에요</td>\n",
       "      <td>1</td>\n",
       "      <td>[꼬소하, 니, 건강, 음료, 에요]</td>\n",
       "    </tr>\n",
       "    <tr>\n",
       "      <th>56237</th>\n",
       "      <td>1</td>\n",
       "      <td>생각보다 품질이 별로인 것 같아요</td>\n",
       "      <td>0</td>\n",
       "      <td>[생각, 보다, 품질, 별로, 것, 같아요]</td>\n",
       "    </tr>\n",
       "    <tr>\n",
       "      <th>102941</th>\n",
       "      <td>1</td>\n",
       "      <td>선반하나는 휘어져와서 문의남겼더니 전화주실줄알았는데 댓글만 남겨두셨네요 말씀드린것처...</td>\n",
       "      <td>0</td>\n",
       "      <td>[선반, 하나, 휘, 어, 져와, 서, 문의, 남겼더니, 전화, 주실줄, 알았는데,...</td>\n",
       "    </tr>\n",
       "    <tr>\n",
       "      <th>73392</th>\n",
       "      <td>5</td>\n",
       "      <td>색상넘예뻐서 샀어요 아이도 좋아하네요 학교갖고감 잊어버릴수있다며 집에서 쓴다는데 ㅋ...</td>\n",
       "      <td>1</td>\n",
       "      <td>[색상, 넘, 예뻐서, 샀어요, 아이, 좋아하네요, 학교, 갖고, 감, 잊어버릴수있...</td>\n",
       "    </tr>\n",
       "  </tbody>\n",
       "</table>\n",
       "</div>"
      ],
      "text/plain": [
       "        ratings                                            reviews  label  \\\n",
       "155437        4  무게는 성인 여자가 들고 다니기엔 무겁지만 그래도 설치가 간편하고 크기가 엄청 커서...      1   \n",
       "22187         5                                       꼬소하니 건강음료에요       1   \n",
       "56237         1                                생각보다 품질이 별로인 것 같아요       0   \n",
       "102941        1  선반하나는 휘어져와서 문의남겼더니 전화주실줄알았는데 댓글만 남겨두셨네요 말씀드린것처...      0   \n",
       "73392         5  색상넘예뻐서 샀어요 아이도 좋아하네요 학교갖고감 잊어버릴수있다며 집에서 쓴다는데 ㅋ...      1   \n",
       "\n",
       "                                                tokenized  \n",
       "155437  [무게, 성인, 여자, 들고, 다니, 기, 엔, 무겁지만, 그래도, 설치, 간편하고...  \n",
       "22187                                [꼬소하, 니, 건강, 음료, 에요]  \n",
       "56237                            [생각, 보다, 품질, 별로, 것, 같아요]  \n",
       "102941  [선반, 하나, 휘, 어, 져와, 서, 문의, 남겼더니, 전화, 주실줄, 알았는데,...  \n",
       "73392   [색상, 넘, 예뻐서, 샀어요, 아이, 좋아하네요, 학교, 갖고, 감, 잊어버릴수있...  "
      ]
     },
     "execution_count": 14,
     "metadata": {},
     "output_type": "execute_result"
    }
   ],
   "source": [
    "# 토큰화 하기\n",
    "train_data[\"tokenized\"] = train_data[\"reviews\"].apply(okt.morphs)\n",
    "train_data[\"tokenized\"] = train_data[\"tokenized\"].apply(lambda x: [word for word in x if word not in stopwords])\n",
    "train_data.head()"
   ]
  },
  {
   "cell_type": "code",
   "execution_count": 15,
   "metadata": {},
   "outputs": [
    {
     "data": {
      "text/html": [
       "<div>\n",
       "<style scoped>\n",
       "    .dataframe tbody tr th:only-of-type {\n",
       "        vertical-align: middle;\n",
       "    }\n",
       "\n",
       "    .dataframe tbody tr th {\n",
       "        vertical-align: top;\n",
       "    }\n",
       "\n",
       "    .dataframe thead th {\n",
       "        text-align: right;\n",
       "    }\n",
       "</style>\n",
       "<table border=\"1\" class=\"dataframe\">\n",
       "  <thead>\n",
       "    <tr style=\"text-align: right;\">\n",
       "      <th></th>\n",
       "      <th>ratings</th>\n",
       "      <th>reviews</th>\n",
       "      <th>label</th>\n",
       "      <th>tokenized</th>\n",
       "    </tr>\n",
       "  </thead>\n",
       "  <tbody>\n",
       "    <tr>\n",
       "      <th>74842</th>\n",
       "      <td>5</td>\n",
       "      <td>선풍기랑 노트북에 붙히려고 샀는데 넘 좋아요</td>\n",
       "      <td>1</td>\n",
       "      <td>[선풍기, 랑, 노트북, 붙히려고, 샀는데, 넘, 좋아요]</td>\n",
       "    </tr>\n",
       "    <tr>\n",
       "      <th>109950</th>\n",
       "      <td>2</td>\n",
       "      <td>제품이 잘못배송된건가요       가 왔어요</td>\n",
       "      <td>0</td>\n",
       "      <td>[제품, 잘못, 배송, 된건, 가요, 왔어요]</td>\n",
       "    </tr>\n",
       "    <tr>\n",
       "      <th>181885</th>\n",
       "      <td>5</td>\n",
       "      <td>정말 너무 너무 귀엽습니다 ㅠ ㅠ</td>\n",
       "      <td>1</td>\n",
       "      <td>[정말, 너무, 너무, 귀엽습니다, ㅠ, ㅠ]</td>\n",
       "    </tr>\n",
       "    <tr>\n",
       "      <th>2845</th>\n",
       "      <td>2</td>\n",
       "      <td>길이가 짧아서 조금 불편하네요</td>\n",
       "      <td>0</td>\n",
       "      <td>[길이, 짧아서, 조금, 불편하네요]</td>\n",
       "    </tr>\n",
       "    <tr>\n",
       "      <th>184584</th>\n",
       "      <td>5</td>\n",
       "      <td>안먹어봤지만 상품은 잘 도착했어요 ㅎ</td>\n",
       "      <td>1</td>\n",
       "      <td>[안, 먹어, 봤지만, 상품, 잘, 도착, 했어요, ㅎ]</td>\n",
       "    </tr>\n",
       "  </tbody>\n",
       "</table>\n",
       "</div>"
      ],
      "text/plain": [
       "        ratings                      reviews  label  \\\n",
       "74842         5  선풍기랑 노트북에 붙히려고 샀는데 넘 좋아요         1   \n",
       "109950        2     제품이 잘못배송된건가요       가 왔어요      0   \n",
       "181885        5           정말 너무 너무 귀엽습니다 ㅠ ㅠ      1   \n",
       "2845          2             길이가 짧아서 조금 불편하네요      0   \n",
       "184584        5         안먹어봤지만 상품은 잘 도착했어요 ㅎ      1   \n",
       "\n",
       "                               tokenized  \n",
       "74842   [선풍기, 랑, 노트북, 붙히려고, 샀는데, 넘, 좋아요]  \n",
       "109950         [제품, 잘못, 배송, 된건, 가요, 왔어요]  \n",
       "181885         [정말, 너무, 너무, 귀엽습니다, ㅠ, ㅠ]  \n",
       "2845                [길이, 짧아서, 조금, 불편하네요]  \n",
       "184584   [안, 먹어, 봤지만, 상품, 잘, 도착, 했어요, ㅎ]  "
      ]
     },
     "execution_count": 15,
     "metadata": {},
     "output_type": "execute_result"
    }
   ],
   "source": [
    "test_data[\"tokenized\"] = test_data[\"reviews\"].apply(okt.morphs)\n",
    "test_data[\"tokenized\"] = test_data[\"tokenized\"].apply(lambda x: [word for word in x if word not in stopwords])\n",
    "test_data.head()"
   ]
  },
  {
   "cell_type": "code",
   "execution_count": 16,
   "metadata": {},
   "outputs": [],
   "source": [
    "# 단어와 길이 분포 확인하기\n",
    "negative_words = np.hstack(train_data[train_data.label == 0]['tokenized'].values)\n",
    "positive_words = np.hstack(train_data[train_data.label == 1]['tokenized'].values)"
   ]
  },
  {
   "cell_type": "code",
   "execution_count": 17,
   "metadata": {},
   "outputs": [
    {
     "name": "stdout",
     "output_type": "stream",
     "text": [
      "[('너무', 14005), ('안', 12608), ('요', 12552), ('배송', 9728), ('그냥', 9070), ('잘', 8406), ('로', 6103), ('했는데', 6051), ('별로', 5975), ('못', 5592), ('제품', 5342), ('좀', 5301), ('생각', 5293), ('으로', 5290), ('사용', 5228), ('하고', 5037), ('ㅠㅠ', 4977), ('보다', 4931), ('구매', 4884), ('만', 4319)]\n"
     ]
    }
   ],
   "source": [
    "# 부정리뷰 빈도수가 높은 상위 20개 단어 출력하기\n",
    "negative_word_count = Counter(negative_words)\n",
    "print(negative_word_count.most_common(20))"
   ]
  },
  {
   "cell_type": "code",
   "execution_count": 18,
   "metadata": {},
   "outputs": [
    {
     "name": "stdout",
     "output_type": "stream",
     "text": [
      "[('잘', 16457), ('좋아요', 15389), ('배송', 12992), ('너무', 9721), ('재구매', 9219), ('구매', 7553), ('요', 7112), ('사용', 5760), ('가격', 5382), ('같아요', 4747), ('으로', 4710), ('로', 4660), ('좋네요', 4517), ('보다', 4233), ('제품', 4222), ('빠르고', 4211), ('주문', 4145), ('입니다', 4059), ('생각', 3751), ('더', 3579)]\n"
     ]
    }
   ],
   "source": [
    "# 긍정리뷰 빈도수가 높은 상위 20개 단어 출력하기\n",
    "positive_words_count = Counter(positive_words)\n",
    "print(positive_words_count.most_common(20))"
   ]
  },
  {
   "cell_type": "code",
   "execution_count": 19,
   "metadata": {},
   "outputs": [
    {
     "name": "stdout",
     "output_type": "stream",
     "text": [
      "긍정 리뷰의 평균 길이 : 10.775689599119714\n",
      "부정 리뷰의 평균 길이 : 14.121460376225736\n"
     ]
    },
    {
     "data": {
      "image/png": "[encoded data removed]",
      "text/plain": [
       "<Figure size 1000x500 with 2 Axes>"
      ]
     },
     "metadata": {},
     "output_type": "display_data"
    }
   ],
   "source": [
    "fig,(ax1,ax2) = plt.subplots(1,2,figsize=(10,5))\n",
    "text_len = train_data[train_data['label']==1]['tokenized'].map(lambda x: len(x))\n",
    "ax1.hist(text_len, color='red')\n",
    "ax1.set_title('Positive Reviews')\n",
    "ax1.set_xlabel('length of samples')\n",
    "ax1.set_ylabel('number of samples')\n",
    "print('긍정 리뷰의 평균 길이 :', np.mean(text_len))\n",
    "\n",
    "text_len = train_data[train_data['label']==0]['tokenized'].map(lambda x: len(x))\n",
    "ax2.hist(text_len, color='blue')\n",
    "ax2.set_title('Negative Reviews')\n",
    "fig.suptitle('Words in texts')\n",
    "ax2.set_xlabel('length of samples')\n",
    "ax2.set_ylabel('number of samples')\n",
    "print('부정 리뷰의 평균 길이 :', np.mean(text_len))\n",
    "plt.show()"
   ]
  },
  {
   "cell_type": "code",
   "execution_count": 20,
   "metadata": {},
   "outputs": [
    {
     "data": {
      "text/html": [
       "<div>\n",
       "<style scoped>\n",
       "    .dataframe tbody tr th:only-of-type {\n",
       "        vertical-align: middle;\n",
       "    }\n",
       "\n",
       "    .dataframe tbody tr th {\n",
       "        vertical-align: top;\n",
       "    }\n",
       "\n",
       "    .dataframe thead th {\n",
       "        text-align: right;\n",
       "    }\n",
       "</style>\n",
       "<table border=\"1\" class=\"dataframe\">\n",
       "  <thead>\n",
       "    <tr style=\"text-align: right;\">\n",
       "      <th></th>\n",
       "      <th>ratings</th>\n",
       "      <th>reviews</th>\n",
       "      <th>label</th>\n",
       "      <th>tokenized</th>\n",
       "    </tr>\n",
       "  </thead>\n",
       "  <tbody>\n",
       "    <tr>\n",
       "      <th>155437</th>\n",
       "      <td>4</td>\n",
       "      <td>무게는 성인 여자가 들고 다니기엔 무겁지만 그래도 설치가 간편하고 크기가 엄청 커서...</td>\n",
       "      <td>1</td>\n",
       "      <td>[무게, 성인, 여자, 들고, 다니, 기, 엔, 무겁지만, 그래도, 설치, 간편하고...</td>\n",
       "    </tr>\n",
       "    <tr>\n",
       "      <th>22187</th>\n",
       "      <td>5</td>\n",
       "      <td>꼬소하니 건강음료에요</td>\n",
       "      <td>1</td>\n",
       "      <td>[꼬소하, 니, 건강, 음료, 에요]</td>\n",
       "    </tr>\n",
       "    <tr>\n",
       "      <th>56237</th>\n",
       "      <td>1</td>\n",
       "      <td>생각보다 품질이 별로인 것 같아요</td>\n",
       "      <td>0</td>\n",
       "      <td>[생각, 보다, 품질, 별로, 것, 같아요]</td>\n",
       "    </tr>\n",
       "    <tr>\n",
       "      <th>102941</th>\n",
       "      <td>1</td>\n",
       "      <td>선반하나는 휘어져와서 문의남겼더니 전화주실줄알았는데 댓글만 남겨두셨네요 말씀드린것처...</td>\n",
       "      <td>0</td>\n",
       "      <td>[선반, 하나, 휘, 어, 져와, 서, 문의, 남겼더니, 전화, 주실줄, 알았는데,...</td>\n",
       "    </tr>\n",
       "    <tr>\n",
       "      <th>73392</th>\n",
       "      <td>5</td>\n",
       "      <td>색상넘예뻐서 샀어요 아이도 좋아하네요 학교갖고감 잊어버릴수있다며 집에서 쓴다는데 ㅋ...</td>\n",
       "      <td>1</td>\n",
       "      <td>[색상, 넘, 예뻐서, 샀어요, 아이, 좋아하네요, 학교, 갖고, 감, 잊어버릴수있...</td>\n",
       "    </tr>\n",
       "    <tr>\n",
       "      <th>...</th>\n",
       "      <td>...</td>\n",
       "      <td>...</td>\n",
       "      <td>...</td>\n",
       "      <td>...</td>\n",
       "    </tr>\n",
       "    <tr>\n",
       "      <th>178715</th>\n",
       "      <td>4</td>\n",
       "      <td>가성비 좋네요 부직포랑 비닐부분이조금 얇은것빼고는요 그래도 또살것같아요</td>\n",
       "      <td>1</td>\n",
       "      <td>[가성, 비, 좋네요, 부직포, 랑, 비닐, 부분, 조금, 얇은것, 빼고는요, 그래...</td>\n",
       "    </tr>\n",
       "    <tr>\n",
       "      <th>166528</th>\n",
       "      <td>5</td>\n",
       "      <td>무난한 상품입니다</td>\n",
       "      <td>1</td>\n",
       "      <td>[무난, 상품, 입니다]</td>\n",
       "    </tr>\n",
       "    <tr>\n",
       "      <th>51808</th>\n",
       "      <td>5</td>\n",
       "      <td>선물로줬는데 향이너무좋다고해요</td>\n",
       "      <td>1</td>\n",
       "      <td>[선물, 로, 줬는데, 향, 너무, 좋다, 고해, 요]</td>\n",
       "    </tr>\n",
       "    <tr>\n",
       "      <th>52730</th>\n",
       "      <td>1</td>\n",
       "      <td>찌그러져서 배송됐어요</td>\n",
       "      <td>0</td>\n",
       "      <td>[찌그러져서, 배송, 됐어요]</td>\n",
       "    </tr>\n",
       "    <tr>\n",
       "      <th>7816</th>\n",
       "      <td>5</td>\n",
       "      <td>맛이 좋고 종류가 다양해서 좋지만 간은 좀 있는 편입니다</td>\n",
       "      <td>1</td>\n",
       "      <td>[맛, 좋고, 종류, 다양해서, 좋지만, 간, 좀, 있는, 편입, 니]</td>\n",
       "    </tr>\n",
       "  </tbody>\n",
       "</table>\n",
       "<p>159926 rows × 4 columns</p>\n",
       "</div>"
      ],
      "text/plain": [
       "        ratings                                            reviews  label  \\\n",
       "155437        4  무게는 성인 여자가 들고 다니기엔 무겁지만 그래도 설치가 간편하고 크기가 엄청 커서...      1   \n",
       "22187         5                                       꼬소하니 건강음료에요       1   \n",
       "56237         1                                생각보다 품질이 별로인 것 같아요       0   \n",
       "102941        1  선반하나는 휘어져와서 문의남겼더니 전화주실줄알았는데 댓글만 남겨두셨네요 말씀드린것처...      0   \n",
       "73392         5  색상넘예뻐서 샀어요 아이도 좋아하네요 학교갖고감 잊어버릴수있다며 집에서 쓴다는데 ㅋ...      1   \n",
       "...         ...                                                ...    ...   \n",
       "178715        4            가성비 좋네요 부직포랑 비닐부분이조금 얇은것빼고는요 그래도 또살것같아요      1   \n",
       "166528        5                                         무난한 상품입니다       1   \n",
       "51808         5                                   선물로줬는데 향이너무좋다고해요      1   \n",
       "52730         1                                        찌그러져서 배송됐어요      0   \n",
       "7816          5                    맛이 좋고 종류가 다양해서 좋지만 간은 좀 있는 편입니다      1   \n",
       "\n",
       "                                                tokenized  \n",
       "155437  [무게, 성인, 여자, 들고, 다니, 기, 엔, 무겁지만, 그래도, 설치, 간편하고...  \n",
       "22187                                [꼬소하, 니, 건강, 음료, 에요]  \n",
       "56237                            [생각, 보다, 품질, 별로, 것, 같아요]  \n",
       "102941  [선반, 하나, 휘, 어, 져와, 서, 문의, 남겼더니, 전화, 주실줄, 알았는데,...  \n",
       "73392   [색상, 넘, 예뻐서, 샀어요, 아이, 좋아하네요, 학교, 갖고, 감, 잊어버릴수있...  \n",
       "...                                                   ...  \n",
       "178715  [가성, 비, 좋네요, 부직포, 랑, 비닐, 부분, 조금, 얇은것, 빼고는요, 그래...  \n",
       "166528                                      [무난, 상품, 입니다]  \n",
       "51808                      [선물, 로, 줬는데, 향, 너무, 좋다, 고해, 요]  \n",
       "52730                                    [찌그러져서, 배송, 됐어요]  \n",
       "7816              [맛, 좋고, 종류, 다양해서, 좋지만, 간, 좀, 있는, 편입, 니]  \n",
       "\n",
       "[159926 rows x 4 columns]"
      ]
     },
     "execution_count": 20,
     "metadata": {},
     "output_type": "execute_result"
    }
   ],
   "source": [
    "train_data"
   ]
  },
  {
   "cell_type": "code",
   "execution_count": 21,
   "metadata": {},
   "outputs": [
    {
     "name": "stdout",
     "output_type": "stream",
     "text": [
      "(159926,) (159926,)\n",
      "(39982,) (39982,)\n"
     ]
    }
   ],
   "source": [
    "# 훈련/테스트 데이터 나누기\n",
    "X_train, y_train = train_data[\"tokenized\"].values, train_data[\"label\"].values\n",
    "X_test, y_test = test_data[\"tokenized\"].values, test_data[\"label\"].values\n",
    "print(X_train.shape, y_train.shape)\n",
    "print(X_test.shape, y_test.shape)"
   ]
  },
  {
   "cell_type": "code",
   "execution_count": 22,
   "metadata": {},
   "outputs": [
    {
     "data": {
      "text/plain": [
       "array([list(['무게', '성인', '여자', '들고', '다니', '기', '엔', '무겁지만', '그래도', '설치', '간편하고', '크기', '엄청', '커서', '만족', '합니다']),\n",
       "       list(['꼬소하', '니', '건강', '음료', '에요']),\n",
       "       list(['생각', '보다', '품질', '별로', '것', '같아요']), ...,\n",
       "       list(['선물', '로', '줬는데', '향', '너무', '좋다', '고해', '요']),\n",
       "       list(['찌그러져서', '배송', '됐어요']),\n",
       "       list(['맛', '좋고', '종류', '다양해서', '좋지만', '간', '좀', '있는', '편입', '니'])],\n",
       "      dtype=object)"
      ]
     },
     "execution_count": 22,
     "metadata": {},
     "output_type": "execute_result"
    }
   ],
   "source": [
    "X_train"
   ]
  },
  {
   "cell_type": "code",
   "execution_count": 23,
   "metadata": {},
   "outputs": [
    {
     "data": {
      "text/plain": [
       "array([list(['무게', '성인', '여자', '들고', '다니', '기', '엔', '무겁지만', '그래도', '설치', '간편하고', '크기', '엄청', '커서', '만족', '합니다']),\n",
       "       list(['꼬소하', '니', '건강', '음료', '에요']),\n",
       "       list(['생각', '보다', '품질', '별로', '것', '같아요']), ...,\n",
       "       list(['선물', '로', '줬는데', '향', '너무', '좋다', '고해', '요']),\n",
       "       list(['찌그러져서', '배송', '됐어요']),\n",
       "       list(['맛', '좋고', '종류', '다양해서', '좋지만', '간', '좀', '있는', '편입', '니'])],\n",
       "      dtype=object)"
      ]
     },
     "execution_count": 23,
     "metadata": {},
     "output_type": "execute_result"
    }
   ],
   "source": [
    "# 정수 인코딩하기\n",
    "vectorizer = CountVectorizer(max_features=10000)\n",
    "\n",
    "# CountVectorizer로 처리하기 위해 문자열로 변환\n",
    "corpus_train = [\" \".join(words) for words in X_train]\n",
    "corpus_test = [\" \".join(words) for words in X_test]\n",
    "\n",
    "# 데이터를 문장 형태로 변환 후 벡터로 변환하고 배열로 저장\n",
    "X_train_encoded = vectorizer.fit_transform(corpus_train).toarray()\n",
    "X_test_encoded = vectorizer.transform(corpus_test).toarray()\n",
    "X_train"
   ]
  },
  {
   "cell_type": "code",
   "execution_count": 36,
   "metadata": {},
   "outputs": [],
   "source": [
    "label_encoder = LabelEncoder()\n",
    "labels = label_encoder.fit_transform(dataset[\"ratings\"])"
   ]
  },
  {
   "cell_type": "code",
   "execution_count": 24,
   "metadata": {},
   "outputs": [],
   "source": [
    "# 파이토치 텐서로 변환\n",
    "X_train_tensor = torch.tensor(X_train_encoded, dtype=torch.float32)\n",
    "X_test_tensor = torch.tensor(X_test_encoded, dtype=torch.float32)\n",
    "y_train_tensor = torch.tensor(y_train, dtype=torch.long)\n",
    "y_test_tensor = torch.tensor(y_test, dtype=torch.long)"
   ]
  },
  {
   "cell_type": "code",
   "execution_count": 27,
   "metadata": {},
   "outputs": [],
   "source": [
    "# 데이터셋 클래스 정의\n",
    "class NewsGroupDataset(Dataset):\n",
    "  def __init__(self, X, y):\n",
    "    self.X = X\n",
    "    self.y = y\n",
    "\n",
    "  def __len__(self):\n",
    "    return len(self.X)\n",
    "\n",
    "  def __getitem__(self, idx):\n",
    "    return self.X[idx], self.y[idx]"
   ]
  },
  {
   "cell_type": "code",
   "execution_count": 28,
   "metadata": {},
   "outputs": [],
   "source": [
    "train_dataset = NewsGroupDataset(X_train_tensor, y_train_tensor)\n",
    "test_dataset = NewsGroupDataset(X_test_tensor, y_test_tensor)"
   ]
  },
  {
   "cell_type": "code",
   "execution_count": 29,
   "metadata": {},
   "outputs": [],
   "source": [
    "# 데이터로더 생성\n",
    "train_loader = DataLoader(train_dataset, batch_size=64, shuffle=True)\n",
    "test_loader = DataLoader(test_dataset, batch_size=64, shuffle=False)"
   ]
  },
  {
   "cell_type": "code",
   "execution_count": 37,
   "metadata": {},
   "outputs": [],
   "source": [
    "# RNN 모델 생성\n",
    "class LSTMModel(nn.Module):\n",
    "  def __init__(self, input_size, hidden_size, output_size, num_layers=1):\n",
    "    super(LSTMModel, self).__init__()\n",
    "    self.hidden_size = hidden_size\n",
    "    self.lstm = nn.LSTM(input_size, hidden_size, num_layers, batch_first=True)\n",
    "    self.fc = nn.Linear(hidden_size, output_size)\n",
    "\n",
    "  def forward(self, x):\n",
    "    h = torch.zeros(1, x.size(0), self.hidden_size).to(x.device)\n",
    "    c = torch.zeros(1, x.size(0), self.hidden_size).to(x.device)\n",
    "    out, _ = self.lstm(x, (h, c))\n",
    "    out = self.fc(out[:, -1, :])\n",
    "    return out\n",
    "\n",
    "input_size = 10000\n",
    "hidden_size = 128\n",
    "output_size = len(label_encoder.classes_)\n",
    "num_layers = 1\n",
    "\n",
    "model = LSTMModel(input_size, hidden_size, output_size, num_layers)\n",
    "model = model.to(\"cuda\" if torch.cuda.is_available() else \"cpu\")"
   ]
  },
  {
   "cell_type": "code",
   "execution_count": 38,
   "metadata": {},
   "outputs": [
    {
     "name": "stdout",
     "output_type": "stream",
     "text": [
      "Epoch 1/10, Loss: 0.2850\n",
      "Epoch 2/10, Loss: 0.4247\n",
      "Epoch 3/10, Loss: 0.2993\n",
      "Epoch 4/10, Loss: 0.3172\n",
      "Epoch 5/10, Loss: 0.2492\n",
      "Epoch 6/10, Loss: 0.2219\n",
      "Epoch 7/10, Loss: 0.0592\n",
      "Epoch 8/10, Loss: 0.1065\n",
      "Epoch 9/10, Loss: 0.0840\n",
      "Epoch 10/10, Loss: 0.0593\n"
     ]
    }
   ],
   "source": [
    "# 학습\n",
    "loss_fun = nn.CrossEntropyLoss()\n",
    "optimizer = optim.Adam(model.parameters(), lr=0.001)\n",
    "\n",
    "num_epochs = 10\n",
    "for epoch in range(num_epochs):\n",
    "  model.train()\n",
    "  for X_batch, y_batch in train_loader:\n",
    "    # X_batch, y_batch= X_batch.to(model.device), y_batch.to(model.device)\n",
    "    X_batch = X_batch.unsqueeze(1)\n",
    "    outputs = model(X_batch)\n",
    "    loss = loss_fun(outputs, y_batch)\n",
    "\n",
    "    optimizer.zero_grad()\n",
    "    loss.backward()\n",
    "    optimizer.step()\n",
    "  print(f\"Epoch {epoch+1}/{num_epochs}, Loss: {loss.item():.4f}\")"
   ]
  },
  {
   "cell_type": "code",
   "execution_count": 41,
   "metadata": {},
   "outputs": [
    {
     "name": "stdout",
     "output_type": "stream",
     "text": [
      "Accuracy: 0.8887\n"
     ]
    }
   ],
   "source": [
    "# 검증\n",
    "model.eval()\n",
    "y_test, y_pred = [], []\n",
    "with torch.no_grad():\n",
    "  for X_batch, y_batch in test_loader:\n",
    "    X_batch = X_batch.unsqueeze(1)\n",
    "    outputs = model(X_batch)\n",
    "    _, pred = torch.max(outputs, 1)\n",
    "    y_test.extend(y_batch.detach().numpy())\n",
    "    y_pred.extend(pred.detach().numpy())\n",
    "\n",
    "accuarcy = accuracy_score(y_test, y_pred)\n",
    "print(f\"Accuracy: {accuarcy:.4f}\")"
   ]
  }
 ],
 "metadata": {
  "kernelspec": {
   "display_name": "Python 3",
   "language": "python",
   "name": "python3"
  },
  "language_info": {
   "codemirror_mode": {
    "name": "ipython",
    "version": 3
   },
   "file_extension": ".py",
   "mimetype": "text/x-python",
   "name": "python",
   "nbconvert_exporter": "python",
   "pygments_lexer": "ipython3",
   "version": "3.10.11"
  }
 },
 "nbformat": 4,
 "nbformat_minor": 2
}
